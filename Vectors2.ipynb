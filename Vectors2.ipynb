{
  "nbformat": 4,
  "nbformat_minor": 0,
  "metadata": {
    "colab": {
      "provenance": [],
      "authorship_tag": "ABX9TyPyYzn1BNyKRyau0vYRRCNU",
      "include_colab_link": true
    },
    "kernelspec": {
      "name": "python3",
      "display_name": "Python 3"
    },
    "language_info": {
      "name": "python"
    }
  },
  "cells": [
    {
      "cell_type": "markdown",
      "metadata": {
        "id": "view-in-github",
        "colab_type": "text"
      },
      "source": [
        "<a href=\"https://colab.research.google.com/github/SheikhCham/Exam/blob/main/Vectors2.ipynb\" target=\"_parent\"><img src=\"https://colab.research.google.com/assets/colab-badge.svg\" alt=\"Open In Colab\"/></a>"
      ]
    },
    {
      "cell_type": "code",
      "execution_count": 4,
      "metadata": {
        "colab": {
          "base_uri": "https://localhost:8080/"
        },
        "id": "ee6ldVb3-p9o",
        "outputId": "0a07621b-4877-4a61-b0f2-78a93c05472b"
      },
      "outputs": [
        {
          "output_type": "stream",
          "name": "stdout",
          "text": [
            "[[1 7]\n",
            " [2 1]\n",
            " [3 2]]\n"
          ]
        }
      ],
      "source": [
        "import numpy as np\n",
        "P=np.array([[1,7],[2,1],[3,2]])\n",
        "print(P)"
      ]
    },
    {
      "cell_type": "code",
      "source": [
        "Q=np.array([[1,1],[1,-1],[1,1]])\n",
        "print(Q)"
      ],
      "metadata": {
        "colab": {
          "base_uri": "https://localhost:8080/"
        },
        "id": "J8Ep5Ihn_qJK",
        "outputId": "6c38ac37-bc03-44d4-c1ab-49da89234691"
      },
      "execution_count": 15,
      "outputs": [
        {
          "output_type": "stream",
          "name": "stdout",
          "text": [
            "[[ 1  1]\n",
            " [ 1 -1]\n",
            " [ 1  1]]\n"
          ]
        }
      ]
    },
    {
      "cell_type": "code",
      "source": [
        "C1=np.add(P,Q)\n",
        "print(C1)"
      ],
      "metadata": {
        "colab": {
          "base_uri": "https://localhost:8080/"
        },
        "id": "bFS38rHZAW1o",
        "outputId": "209ac27f-1f99-44c9-fcd8-b7f59b8b00a7"
      },
      "execution_count": 16,
      "outputs": [
        {
          "output_type": "stream",
          "name": "stdout",
          "text": [
            "[[2 8]\n",
            " [3 0]\n",
            " [4 3]]\n"
          ]
        }
      ]
    },
    {
      "cell_type": "code",
      "source": [
        "R=np.array([[1,3,1],[1,0,1]])\n",
        "print(R)"
      ],
      "metadata": {
        "colab": {
          "base_uri": "https://localhost:8080/"
        },
        "id": "DxW4gT5xBg63",
        "outputId": "7eb71777-1d2f-41d4-8eb0-ceabf1faf2d4"
      },
      "execution_count": 18,
      "outputs": [
        {
          "output_type": "stream",
          "name": "stdout",
          "text": [
            "[[1 3 1]\n",
            " [1 0 1]]\n"
          ]
        }
      ]
    },
    {
      "cell_type": "code",
      "source": [
        "C2=np.dot(C1,R)\n",
        "print(C2)"
      ],
      "metadata": {
        "colab": {
          "base_uri": "https://localhost:8080/"
        },
        "id": "d9yqUOYCCCMc",
        "outputId": "a5f53e7d-e3f2-48a7-bfef-7d718c353637"
      },
      "execution_count": 19,
      "outputs": [
        {
          "output_type": "stream",
          "name": "stdout",
          "text": [
            "[[10  6 10]\n",
            " [ 3  9  3]\n",
            " [ 7 12  7]]\n"
          ]
        }
      ]
    },
    {
      "cell_type": "code",
      "source": [
        "det=np.linalg.det(C2)"
      ],
      "metadata": {
        "id": "Q4p8kobpCVMJ"
      },
      "execution_count": 21,
      "outputs": []
    },
    {
      "cell_type": "code",
      "source": [
        "print(det)"
      ],
      "metadata": {
        "colab": {
          "base_uri": "https://localhost:8080/"
        },
        "id": "EEUYKBloCP9l",
        "outputId": "62d92c39-3307-42c8-add7-0d120affed59"
      },
      "execution_count": 22,
      "outputs": [
        {
          "output_type": "stream",
          "name": "stdout",
          "text": [
            "-3.463895836830476e-14\n"
          ]
        }
      ]
    }
  ]
}